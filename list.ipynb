{
 "cells": [
  {
   "cell_type": "code",
   "execution_count": null,
   "id": "stretch-walnut",
   "metadata": {},
   "outputs": [],
   "source": [
    "import queue"
   ]
  },
  {
   "cell_type": "markdown",
   "id": "super-latitude",
   "metadata": {},
   "source": [
    "# 基本"
   ]
  },
  {
   "cell_type": "code",
   "execution_count": null,
   "id": "naked-information",
   "metadata": {},
   "outputs": [],
   "source": [
    "a = [1, 3, 5]\n",
    "print(list(reversed(a))) # 破壊的処理のreverseメソッドもある"
   ]
  },
  {
   "cell_type": "markdown",
   "id": "desperate-concentrate",
   "metadata": {},
   "source": [
    "# サイズの異なるリスト同士のzipイテレート"
   ]
  },
  {
   "cell_type": "code",
   "execution_count": null,
   "id": "expanded-relevance",
   "metadata": {},
   "outputs": [],
   "source": [
    "a = [1, 2, 3]\n",
    "b = [11, 22]\n",
    "\n",
    "for aa, bb in zip(a, b):\n",
    "    print(aa, bb)"
   ]
  },
  {
   "cell_type": "markdown",
   "id": "polish-ecology",
   "metadata": {},
   "source": [
    "# slice"
   ]
  },
  {
   "cell_type": "code",
   "execution_count": null,
   "id": "premium-trouble",
   "metadata": {},
   "outputs": [],
   "source": [
    "a = list(range(5))\n",
    "\n",
    "print(a[1:])\n",
    "print(a[:-1])\n",
    "print(a[1:3])"
   ]
  },
  {
   "cell_type": "markdown",
   "id": "together-hours",
   "metadata": {},
   "source": [
    "# enumerate"
   ]
  },
  {
   "cell_type": "code",
   "execution_count": null,
   "id": "funny-coupon",
   "metadata": {},
   "outputs": [],
   "source": [
    "a = [\"a\", \"b\", \"c\"]\n",
    "for i, v in enumerate(a):\n",
    "    print(i, v)"
   ]
  },
  {
   "cell_type": "markdown",
   "id": "compound-capability",
   "metadata": {},
   "source": [
    "# Set Process"
   ]
  },
  {
   "cell_type": "code",
   "execution_count": null,
   "id": "moved-creation",
   "metadata": {},
   "outputs": [],
   "source": [
    "a = list(range(5))\n",
    "\n",
    "# map\n",
    "print([2 * v for v in a])\n",
    "\n",
    "# where\n",
    "print([v for v in a if v % 2 == 0])\n",
    "\n",
    "# count\n",
    "# もっとスマートに特定の条件を満たす要素数をカウントする方法ないのか、\n",
    "# countメソッドが内部に条件関数を取れたりできれば良いのに\n",
    "print(len([v for v in a if v % 2 == 0]))"
   ]
  },
  {
   "cell_type": "markdown",
   "id": "backed-synthetic",
   "metadata": {},
   "source": [
    "# Queue"
   ]
  },
  {
   "cell_type": "code",
   "execution_count": null,
   "id": "artistic-greece",
   "metadata": {},
   "outputs": [],
   "source": [
    "q = queue.Queue()\n",
    "for v in range(5):\n",
    "    q.put(v)\n",
    "while not q.empty(): # not_emptyなるものもあるが、callableじゃないとかで怒られる、たぶんnot empty()の代用とは違うものだと思うので注意\n",
    "    print(q.get_nowait()) # get(false)と同じ。これにしないとデータがないときにブロックしてしまう"
   ]
  },
  {
   "cell_type": "markdown",
   "id": "collect-deficit",
   "metadata": {},
   "source": [
    "# Stack"
   ]
  },
  {
   "cell_type": "code",
   "execution_count": null,
   "id": "supported-associate",
   "metadata": {},
   "outputs": [],
   "source": [
    "q = queue.LifoQueue()\n",
    "for v in range(5):\n",
    "    q.put(v)\n",
    "while not q.empty(): # not_emptyなるものもあるが、callableじゃないとかで怒られる、たぶんnot empty()の代用とは違うものだと思うので注意\n",
    "    print(q.get_nowait()) # get(false)と同じ。これにしないとデータがないときにブロックしてしまう"
   ]
  }
 ],
 "metadata": {
  "kernelspec": {
   "display_name": "Python 3",
   "language": "python",
   "name": "python3"
  },
  "language_info": {
   "codemirror_mode": {
    "name": "ipython",
    "version": 3
   },
   "file_extension": ".py",
   "mimetype": "text/x-python",
   "name": "python",
   "nbconvert_exporter": "python",
   "pygments_lexer": "ipython3",
   "version": "3.8.8"
  }
 },
 "nbformat": 4,
 "nbformat_minor": 5
}
