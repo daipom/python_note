{
 "cells": [
  {
   "cell_type": "markdown",
   "id": "numerical-highlight",
   "metadata": {},
   "source": [
    "# Format"
   ]
  },
  {
   "cell_type": "code",
   "execution_count": null,
   "id": "criminal-vaccine",
   "metadata": {},
   "outputs": [],
   "source": [
    "v = 11/3\n",
    "print(f\"{v:.6f}\")"
   ]
  },
  {
   "cell_type": "code",
   "execution_count": null,
   "id": "proved-margin",
   "metadata": {},
   "outputs": [],
   "source": [
    "v = \"#\" * 2\n",
    "print(f\"{v:_<8}\")\n",
    "print(f\"{v: ^8}\")\n",
    "print(f\"{v:=>8}\")"
   ]
  }
 ],
 "metadata": {
  "kernelspec": {
   "display_name": "Python 3",
   "language": "python",
   "name": "python3"
  },
  "language_info": {
   "codemirror_mode": {
    "name": "ipython",
    "version": 3
   },
   "file_extension": ".py",
   "mimetype": "text/x-python",
   "name": "python",
   "nbconvert_exporter": "python",
   "pygments_lexer": "ipython3",
   "version": "3.8.8"
  }
 },
 "nbformat": 4,
 "nbformat_minor": 5
}
